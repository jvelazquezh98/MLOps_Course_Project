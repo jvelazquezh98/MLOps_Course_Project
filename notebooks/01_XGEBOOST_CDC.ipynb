{
 "cells": [
  {
   "cell_type": "markdown",
   "id": "26141ae6",
   "metadata": {},
   "source": [
    "Modelado XGeboost"
   ]
  },
  {
   "cell_type": "markdown",
   "id": "3ed201c2",
   "metadata": {},
   "source": [
    "1. Importación de librerías"
   ]
  },
  {
   "cell_type": "code",
   "execution_count": 13,
   "id": "604d232e",
   "metadata": {},
   "outputs": [],
   "source": [
    "import os as os\n",
    "import numpy as np\n",
    "import pandas as pd\n",
    "import xgboost as xgb\n",
    "from sklearn.metrics import roc_auc_score,  f1_score, classification_report, confusion_matrix\n",
    "from sklearn.model_selection import ParameterGrid\n",
    "import matplotlib.pyplot as plt\n",
    "import pickle\n",
    "from datetime import datetime"
   ]
  },
  {
   "cell_type": "markdown",
   "id": "cddfa093",
   "metadata": {},
   "source": [
    "Carga de Datos"
   ]
  },
  {
   "cell_type": "code",
   "execution_count": 14,
   "id": "d3133522",
   "metadata": {},
   "outputs": [],
   "source": [
    "df = pd.read_csv(\"../data/processed/online_news_modified_engineered_processed_20251010.csv\")\n",
    "\n",
    "# El dataset de UCI ya viene mayormente numérico y sin nulos.\n",
    "# Variable objetivo: shares\n",
    "# Definimos popularidad binaria con D1=1400:\n",
    "\n",
    "# Quita espacios en los nombres de columnas (en UCI vienen con espacios al inicio)\n",
    "df.columns = [c.strip() for c in df.columns]\n",
    "\n",
    "# Convierte TODAS las columnas (excepto 'url') a numéricas\n",
    "num_cols = [c for c in df.columns if c != \"url\"]\n",
    "df[num_cols] = df[num_cols].apply(pd.to_numeric, errors=\"coerce\")\n",
    "\n",
    "# Asegura que 'shares' sea numérica y sin NaN críticos\n",
    "if df[\"shares\"].isna().any():\n",
    "    # Si hay filas raras, las quitamos\n",
    "    df = df.dropna(subset=[\"shares\"])\n",
    "\n",
    "# 4) Orden temporal por 'timedelta' (también puede venir como float/str)\n",
    "if \"timedelta\" in df.columns:\n",
    "    df[\"timedelta\"] = pd.to_numeric(df[\"timedelta\"], errors=\"coerce\")\n",
    "    df = df.dropna(subset=[\"timedelta\"]).sort_values(\"timedelta\").reset_index(drop=True)\n",
    "else:\n",
    "    # Fallback si no existiera (raro en este dataset)\n",
    "    df = df.reset_index(drop=True)\n",
    "\n",
    "# 5) Objetivo binario (D1 = 1400, como en el paper)\n",
    "D1 = 1400\n",
    "df[\"popular\"] = (df[\"shares\"] > D1).astype(int)\n",
    "\n",
    "# 6) Define X, y (quitando columnas no predictoras)\n",
    "drop_cols = [\"shares\", \"popular\"]\n",
    "if \"url\" in df.columns:\n",
    "    drop_cols.append(\"url\")\n",
    "X = df.drop(columns=drop_cols)\n",
    "y = df[\"popular\"]\n",
    "\n"
   ]
  },
  {
   "cell_type": "markdown",
   "id": "c7ff6c92",
   "metadata": {},
   "source": [
    "Funciones auxiliares"
   ]
  },
  {
   "cell_type": "code",
   "execution_count": 15,
   "id": "3be0daa4",
   "metadata": {},
   "outputs": [],
   "source": [
    "\"\"\"\n",
    "    Determina el umbral de decisión (threshold) que maximiza la métrica F1 para la clase positiva (1).\n",
    "\n",
    "    Parámetros\n",
    "    ----------\n",
    "    y_true : array-like\n",
    "        Etiquetas verdaderas (0 = no popular, 1 = popular).\n",
    "    proba : array-like\n",
    "        Probabilidades predichas por el modelo (salida continua entre 0 y 1).\n",
    "    grid : array-like, opcional\n",
    "        Conjunto de valores de umbral que se probarán para encontrar el mejor F1.\n",
    "        Por defecto, se generan 141 puntos equiespaciados entre 0.15 y 0.85.\n",
    "\n",
    "    Retorna\n",
    "    -------\n",
    "    best_thr : float\n",
    "        Umbral que maximiza la puntuación F1 en los datos de validación.\n",
    "    \"\"\"\n",
    "\n",
    "def pick_thr_f1(y_true, proba, grid=np.linspace(0.15, 0.85, 141)):\n",
    "    \"\"\"Selecciona el umbral que maximiza F1 de la clase positiva\"\"\"\n",
    "    best, best_thr = -1, 0.5\n",
    "    for t in grid:\n",
    "        pred = (proba >= t).astype(int)\n",
    "        sc = f1_score(y_true, pred, pos_label=1)\n",
    "        if sc > best:\n",
    "            best, best_thr = sc, t\n",
    "    return best_thr\n"
   ]
  },
  {
   "cell_type": "code",
   "execution_count": 16,
   "id": "1670262c",
   "metadata": {},
   "outputs": [],
   "source": [
    "\"\"\"\n",
    "    Entrena un modelo XGBoost con los parámetros dados y evalúa su desempeño en validación y test.\n",
    "\n",
    "    Parámetros\n",
    "    ----------\n",
    "    params : dict\n",
    "        Diccionario con los hiperparámetros de XGBoost (ej. learning_rate, max_depth, etc.).\n",
    "    dtrain : xgb.DMatrix\n",
    "        Conjunto de entrenamiento.\n",
    "    dvalid : xgb.DMatrix\n",
    "        Conjunto de validación usado para early stopping y cálculo del threshold.\n",
    "    dtest : xgb.DMatrix\n",
    "        Conjunto de prueba (solo para evaluación final, sin influencia en el entrenamiento).\n",
    "    nrounds : int, opcional\n",
    "        Número máximo de iteraciones (boosting rounds). Por defecto 1500.\n",
    "    esr : int, opcional\n",
    "        Número de rondas sin mejora en validación antes de detener (early stopping). Por defecto 50.\n",
    "\n",
    "    Retorna\n",
    "    -------\n",
    "    dict\n",
    "        Contiene:\n",
    "        - bst : modelo entrenado (Booster de XGBoost)\n",
    "        - auc_valid : AUC obtenido en el conjunto de validación\n",
    "        - auc_test : AUC obtenido en el conjunto de prueba\n",
    "        - f1_test : F1-score en prueba, usando el threshold encontrado en validación\n",
    "        - thr_from_valid : threshold óptimo obtenido en validación\n",
    "        - best_iteration : número de rondas efectivas usadas antes del early stopping\n",
    "    \"\"\"\n",
    "\n",
    "def train_eval(params, dtrain, dvalid, dtest, nrounds=1500, esr=50):\n",
    "    \"\"\"Entrena un modelo XGBoost y devuelve métricas de valid/test.\"\"\"\n",
    "    evals = [(dtrain, \"train\"), (dvalid, \"valid\")]\n",
    "    bst = xgb.train(\n",
    "        params,\n",
    "        dtrain,\n",
    "        num_boost_round=nrounds,\n",
    "        early_stopping_rounds=esr,\n",
    "        evals=evals,\n",
    "        verbose_eval=False\n",
    "    )\n",
    "    \n",
    "    # Predicciones\n",
    "    p_val = bst.predict(dvalid, iteration_range=(0, bst.best_iteration + 1))\n",
    "    p_tst = bst.predict(dtest,  iteration_range=(0, bst.best_iteration + 1))\n",
    "\n",
    "    # Métricas\n",
    "    auc_val = roc_auc_score(y_valid, p_val)\n",
    "    thr_val = pick_thr_f1(y_valid, p_val)\n",
    "    auc_tst = roc_auc_score(y_test, p_tst)\n",
    "    f1_tst  = f1_score(y_test, (p_tst >= thr_val).astype(int), pos_label=1)\n",
    "\n",
    "    return {\n",
    "        \"bst\": bst,\n",
    "        \"auc_valid\": auc_val,\n",
    "        \"auc_test\": auc_tst,\n",
    "        \"f1_test\": f1_tst,\n",
    "        \"thr_from_valid\": thr_val,\n",
    "        \"best_iteration\": int(bst.best_iteration)\n",
    "    }"
   ]
  },
  {
   "cell_type": "code",
   "execution_count": 17,
   "id": "da0f8e3d",
   "metadata": {},
   "outputs": [],
   "source": [
    "#Separacion respetando orden temporal\n",
    "n = len(df)\n",
    "train_end = int(n * 0.70)\n",
    "valid_end = int(n * 0.85)\n",
    "\n",
    "X_train, y_train = X.iloc[:train_end], y.iloc[:train_end]\n",
    "X_valid, y_valid = X.iloc[train_end:valid_end], y.iloc[train_end:valid_end]\n",
    "X_test,  y_test  = X.iloc[valid_end:], y.iloc[valid_end:]"
   ]
  },
  {
   "cell_type": "code",
   "execution_count": 18,
   "id": "4d29cb37",
   "metadata": {},
   "outputs": [],
   "source": [
    "# Crear DMatrix respetando orden temporal\n",
    "dtrain = xgb.DMatrix(X_train, label=y_train)\n",
    "dvalid = xgb.DMatrix(X_valid, label=y_valid)\n",
    "dtest  = xgb.DMatrix(X_test,  label=y_test)"
   ]
  },
  {
   "cell_type": "code",
   "execution_count": 19,
   "id": "0c0d65e6",
   "metadata": {},
   "outputs": [],
   "source": [
    "# Calcula el factor de balanceo entre clases (para problemas desbalanceados)\n",
    "# Fórmula: scale_pos_weight = (# negativos / # positivos)\n",
    "# Si el dataset tiene muchas menos muestras de la clase 1 (popular),\n",
    "# este parámetro ayuda a que el modelo no la ignore.\n",
    "scale_pos_weight = max(1.0, (len(y_train) - y_train.sum()) / max(1, y_train.sum()))\n",
    "\n",
    "# Parámetros base que se mantienen fijos durante el Grid Search\n",
    "# Estos definen el tipo de modelo, dispositivo y métrica de evaluación.\n",
    "base_params = {\n",
    "    \"objective\": \"binary:logistic\",\n",
    "    \"eval_metric\": \"auc\",\n",
    "    \"tree_method\": \"hist\",   # XGBoost 2.x compatible\n",
    "    \"device\": \"cuda\",        # usa \"cpu\" si no tienes GPU\n",
    "    \"scale_pos_weight\": scale_pos_weight,\n",
    "    \"seed\": 42,\n",
    "}\n",
    "# Este diccionario define los valores a probar para cada hiperparámetro clave.\n",
    "# La combinación de todos genera la rejilla completa (combinaciones cartesianas).\n",
    "param_grid = {\n",
    "    \"max_depth\": [4, 6, 8],\n",
    "    \"min_child_weight\": [1, 3, 6],\n",
    "    \"subsample\": [0.7, 0.85],\n",
    "    \"colsample_bytree\": [0.7, 0.9],\n",
    "    \"reg_lambda\": [3, 7],\n",
    "    \"learning_rate\": [0.03, 0.05, 0.08],\n",
    "}\n",
    "# En total, esta configuración generará:\n",
    "# 3 (max_depth) × 3 (min_child_weight) × 2 (subsample) × 2 (colsample_bytree)\n",
    "# × 2 (reg_lambda) × 3 (learning_rate) = 216 combinaciones posibles."
   ]
  },
  {
   "cell_type": "code",
   "execution_count": 20,
   "id": "661b37bb",
   "metadata": {},
   "outputs": [
    {
     "name": "stdout",
     "output_type": "stream",
     "text": [
      "   colsample_bytree  learning_rate  max_depth  min_child_weight  reg_lambda  \\\n",
      "0               0.9           0.05          6                 3           3   \n",
      "1               0.9           0.05          6                 6           3   \n",
      "2               0.9           0.08          4                 1           7   \n",
      "3               0.9           0.05          4                 3           7   \n",
      "4               0.9           0.05          6                 1           3   \n",
      "5               0.9           0.05          6                 6           3   \n",
      "6               0.9           0.05          4                 6           7   \n",
      "7               0.9           0.05          6                 3           7   \n",
      "8               0.7           0.05          4                 1           3   \n",
      "9               0.9           0.03          8                 3           7   \n",
      "\n",
      "   subsample                                              bst  auc_valid  \\\n",
      "0       0.70  <xgboost.core.Booster object at 0x7451a1af8cd0>   0.694473   \n",
      "1       0.85  <xgboost.core.Booster object at 0x7451a1af9860>   0.694010   \n",
      "2       0.70  <xgboost.core.Booster object at 0x7451a1aee800>   0.693710   \n",
      "3       0.70  <xgboost.core.Booster object at 0x74513e6f0d70>   0.693691   \n",
      "4       0.70  <xgboost.core.Booster object at 0x7451a1af8870>   0.693603   \n",
      "5       0.70  <xgboost.core.Booster object at 0x7451a1af80a0>   0.693564   \n",
      "6       0.70  <xgboost.core.Booster object at 0x7451a1af8b90>   0.692955   \n",
      "7       0.85  <xgboost.core.Booster object at 0x7451a1af8aa0>   0.692945   \n",
      "8       0.70  <xgboost.core.Booster object at 0x7451a1afb070>   0.692940   \n",
      "9       0.70  <xgboost.core.Booster object at 0x7451a1aef1b0>   0.692787   \n",
      "\n",
      "   auc_test   f1_test  thr_from_valid  best_iteration  \n",
      "0  0.644103  0.692115           0.325             156  \n",
      "1  0.640389  0.701702           0.300             189  \n",
      "2  0.647019  0.709413           0.265             220  \n",
      "3  0.642279  0.688322           0.310             331  \n",
      "4  0.642648  0.702505           0.285             161  \n",
      "5  0.641469  0.701054           0.290             180  \n",
      "6  0.640010  0.694974           0.295             248  \n",
      "7  0.640607  0.697686           0.285             262  \n",
      "8  0.640391  0.696189           0.305             340  \n",
      "9  0.637709  0.695850           0.295             302  \n"
     ]
    }
   ],
   "source": [
    "#Almacenar resaultados\n",
    "results = []\n",
    "models = []\n",
    "\n",
    "#Revisar resultados \n",
    "for g in ParameterGrid(param_grid):\n",
    "    params = base_params.copy()\n",
    "    params.update(g)\n",
    "    \n",
    "    # Aquí pasamos DMatrix\n",
    "    res = train_eval(params, dtrain, dvalid, dtest)\n",
    "    \n",
    "    results.append({**g, **res})\n",
    "    models.append(res[\"bst\"])\n",
    "\n",
    "results_df = pd.DataFrame(results).sort_values([\"auc_valid\",\"auc_test\"], ascending=False).reset_index(drop=True)\n",
    "print(results_df.head(10))\n"
   ]
  },
  {
   "cell_type": "code",
   "execution_count": 21,
   "id": "45dbcc42",
   "metadata": {},
   "outputs": [
    {
     "data": {
      "image/png": "[encoded data removed]",
      "text/plain": [
       "<Figure size 800x600 with 1 Axes>"
      ]
     },
     "metadata": {},
     "output_type": "display_data"
    }
   ],
   "source": [
    "best_bst = models[0]\n",
    "best_gain = best_bst.get_score(importance_type=\"gain\")\n",
    "\n",
    "imp_df = pd.DataFrame({\n",
    "    \"feature\": list(best_gain.keys()),\n",
    "    \"gain\": list(best_gain.values())\n",
    "}).sort_values(\"gain\", ascending=False).head(20)\n",
    "\n",
    "plt.figure(figsize=(8,6))\n",
    "plt.barh(imp_df[\"feature\"], imp_df[\"gain\"])\n",
    "plt.gca().invert_yaxis()\n",
    "plt.xlabel(\"Gain\")\n",
    "plt.title(\"Top-20 importancias (gain) - mejor modelo\")\n",
    "plt.tight_layout()\n",
    "plt.show()"
   ]
  },
  {
   "cell_type": "code",
   "execution_count": 22,
   "id": "7ef325ef",
   "metadata": {},
   "outputs": [
    {
     "data": {
      "text/plain": [
       "colsample_bytree                                                0.9\n",
       "learning_rate                                                  0.08\n",
       "max_depth                                                         4\n",
       "min_child_weight                                                  1\n",
       "reg_lambda                                                        7\n",
       "subsample                                                       0.7\n",
       "bst                 <xgboost.core.Booster object at 0x7451a1aee800>\n",
       "auc_valid                                                   0.69371\n",
       "auc_test                                                   0.647019\n",
       "f1_test                                                    0.709413\n",
       "thr_from_valid                                                0.265\n",
       "best_iteration                                                  220\n",
       "Name: 2, dtype: object"
      ]
     },
     "execution_count": 22,
     "metadata": {},
     "output_type": "execute_result"
    }
   ],
   "source": [
    "# Criterio: elige uno: \"auc_test\", \"auc_valid\", \"f1_test\"\n",
    "# Esta variacion nos permite cambiar el enfoque del modelo para saber si modelo\n",
    "# se va enfocar en distinguir o en clasificar.\n",
    "# Recall no dejar escapar virales\n",
    "# Equilibrio entre no detectar mucho y no aumentar los FP\n",
    "# Si se quiere Rankear enfocarse en AUC\n",
    "\n",
    "\n",
    "CRITERION = \"auc_test\"\n",
    "\n",
    "best_row = results_df.sort_values(CRITERION, ascending=False).iloc[0]\n",
    "best_params = {\n",
    "    \"objective\": \"binary:logistic\",\n",
    "    \"eval_metric\": \"auc\",\n",
    "    \"tree_method\": \"hist\",\n",
    "    \"device\": \"cuda\",  \n",
    "    \"seed\": 42,\n",
    "    \"max_depth\": int(best_row[\"max_depth\"]),\n",
    "    \"min_child_weight\": float(best_row[\"min_child_weight\"]),\n",
    "    \"subsample\": float(best_row[\"subsample\"]),\n",
    "    \"colsample_bytree\": float(best_row[\"colsample_bytree\"]),\n",
    "    \"reg_lambda\": float(best_row[\"reg_lambda\"]),\n",
    "    \"learning_rate\": float(best_row[\"learning_rate\"]),\n",
    "    \"scale_pos_weight\": float(base_params[\"scale_pos_weight\"]),  # del train\n",
    "}\n",
    "best_rounds = int(best_row[\"best_iteration\"])  # num_boost_round óptimo\n",
    "best_thr   = float(best_row[\"thr_from_valid\"]) # umbral aprendido en VALID\n",
    "best_row\n"
   ]
  },
  {
   "cell_type": "code",
   "execution_count": 23,
   "id": "e2a05c54",
   "metadata": {},
   "outputs": [],
   "source": [
    "# Combinar train + valid\n",
    "X_train_full = pd.concat([X_train, X_valid], axis=0)\n",
    "y_train_full = pd.concat([y_train, y_valid], axis=0)\n",
    "\n",
    "dtrain_full = xgb.DMatrix(X_train_full, label=y_train_full)\n",
    "dtest       = xgb.DMatrix(X_test, label=y_test)\n",
    "\n",
    "final_bst = xgb.train(\n",
    "    best_params,\n",
    "    dtrain_full,\n",
    "    num_boost_round=best_rounds,\n",
    "    evals=[(dtrain_full, \"train_full\")],\n",
    "    verbose_eval=False\n",
    ")\n",
    "\n",
    "# Probabilidades en test (solo para reporte final)\n",
    "proba_test_final = final_bst.predict(dtest)\n"
   ]
  },
  {
   "cell_type": "markdown",
   "id": "0321437d",
   "metadata": {},
   "source": [
    "Resultados finales"
   ]
  },
  {
   "cell_type": "code",
   "execution_count": 24,
   "id": "9937895f",
   "metadata": {},
   "outputs": [
    {
     "name": "stdout",
     "output_type": "stream",
     "text": [
      "AUC_test(final): 0.637  | thr(use valid): 0.265\n",
      "              precision    recall  f1-score   support\n",
      "\n",
      "           0      0.701     0.017     0.034      2695\n",
      "           1      0.559     0.994     0.715      3371\n",
      "\n",
      "    accuracy                          0.560      6066\n",
      "   macro avg      0.630     0.506     0.375      6066\n",
      "weighted avg      0.622     0.560     0.413      6066\n",
      "\n",
      "[[  47 2648]\n",
      " [  20 3351]]\n"
     ]
    }
   ],
   "source": [
    "auc_test_final = roc_auc_score(y_test, proba_test_final)\n",
    "y_pred_test_final = (proba_test_final >= best_thr).astype(int)\n",
    "\n",
    "print(f\"AUC_test(final): {auc_test_final:.3f}  | thr(use valid): {best_thr:.3f}\")\n",
    "print(classification_report(y_test, y_pred_test_final, digits=3))\n",
    "print(confusion_matrix(y_test, y_pred_test_final))\n"
   ]
  },
  {
   "cell_type": "code",
   "execution_count": 35,
   "id": "df4d7812",
   "metadata": {},
   "outputs": [
    {
     "name": "stdout",
     "output_type": "stream",
     "text": [
      "Modelo guardado en la misma carpeta del notebook: /home/carlosdelcastillo/code/MLOps_Course_Project/notebooks/01_xgb_CDC.pkl\n"
     ]
    }
   ],
   "source": [
    "# Crear un diccionario con todo lo importante\n",
    "model_package = {\n",
    "    \"model\": final_bst,\n",
    "    \"params\": best_params,\n",
    "    \"best_rounds\": best_rounds,\n",
    "    \"threshold\": best_thr,\n",
    "    \"criterion\": CRITERION,\n",
    "    \"timestamp\": datetime.now().isoformat(timespec=\"seconds\")\n",
    "}\n",
    "\n",
    "current_dir = os.getcwd()\n",
    "\n",
    "# Nombre del archivo del modelo\n",
    "model_name = \"01_xgb_CDC.pkl\"\n",
    "\n",
    "# Ruta completa (en la misma carpeta del notebook)\n",
    "model_path = os.path.join(current_dir, model_name)\n",
    "\n",
    "# Guardar el modelo\n",
    "with open(model_path, \"wb\") as f:\n",
    "    pickle.dump(model_package, f)\n",
    "\n",
    "print(f\"Modelo guardado en la misma carpeta del notebook: {model_path}\")"
   ]
  }
 ],
 "metadata": {
  "kernelspec": {
   "display_name": "mlops-course-project (3.13.7)",
   "language": "python",
   "name": "python3"
  },
  "language_info": {
   "codemirror_mode": {
    "name": "ipython",
    "version": 3
   },
   "file_extension": ".py",
   "mimetype": "text/x-python",
   "name": "python",
   "nbconvert_exporter": "python",
   "pygments_lexer": "ipython3",
   "version": "3.13.7"
  }
 },
 "nbformat": 4,
 "nbformat_minor": 5
}
