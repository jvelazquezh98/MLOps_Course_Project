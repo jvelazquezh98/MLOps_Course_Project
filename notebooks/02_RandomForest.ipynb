{
 "cells": [
  {
   "cell_type": "markdown",
   "id": "313375d6-8904-40b0-96a6-f1be364817da",
   "metadata": {},
   "source": [
    "Importación de librerías"
   ]
  },
  {
   "cell_type": "code",
   "execution_count": 1,
   "id": "aa1932a4-a5ad-4c30-8322-80755e940434",
   "metadata": {},
   "outputs": [],
   "source": [
    "import os\n",
    "import numpy as np\n",
    "import pandas as pd\n",
    "from sklearn.ensemble import RandomForestClassifier\n",
    "from sklearn.metrics import roc_auc_score, f1_score, classification_report, confusion_matrix\n",
    "from sklearn.model_selection import ParameterGrid\n",
    "import matplotlib.pyplot as plt\n",
    "import pickle\n",
    "from datetime import datetime\n"
   ]
  },
  {
   "cell_type": "markdown",
   "id": "129a2ab8-295d-42c3-8950-80f3b5294c0c",
   "metadata": {},
   "source": [
    "Carga y preparación de los datos"
   ]
  },
  {
   "cell_type": "code",
   "execution_count": null,
   "id": "9d772468-f00f-4a31-81cc-80b39016c6e6",
   "metadata": {},
   "outputs": [],
   "source": [
    "# Cargar dataset\n",
    "df = pd.read_csv(\"../data/processed/online_news_modified_engineered_processed_20251010.csv\")\n",
    "\n",
    "# Limpieza de columnas\n",
    "df.columns = [c.strip() for c in df.columns]\n",
    "num_cols = [c for c in df.columns if c != \"url\"]\n",
    "df[num_cols] = df[num_cols].apply(pd.to_numeric, errors=\"coerce\")\n",
    "\n",
    "# Asegurar shares válido\n",
    "if df[\"shares\"].isna().any():\n",
    "    df = df.dropna(subset=[\"shares\"])\n",
    "\n",
    "# Orden temporal\n",
    "if \"timedelta\" in df.columns:\n",
    "    df[\"timedelta\"] = pd.to_numeric(df[\"timedelta\"], errors=\"coerce\")\n",
    "    df = df.dropna(subset=[\"timedelta\"]).sort_values(\"timedelta\").reset_index(drop=True)\n",
    "else:\n",
    "    df = df.reset_index(drop=True)\n",
    "\n",
    "# Variable objetivo binaria\n",
    "D1 = 1400\n",
    "df[\"popular\"] = (df[\"shares\"] > D1).astype(int)\n",
    "\n",
    "# Features y target\n",
    "drop_cols = [\"shares\", \"popular\"]\n",
    "if \"url\" in df.columns:\n",
    "    drop_cols.append(\"url\")\n",
    "X = df.drop(columns=drop_cols)\n",
    "y = df[\"popular\"]\n",
    "\n"
   ]
  },
  {
   "cell_type": "markdown",
   "id": "58bfa55a-a04a-4efd-b363-e1d9a6e44b71",
   "metadata": {},
   "source": [
    "Separación temporal"
   ]
  },
  {
   "cell_type": "code",
   "execution_count": 3,
   "id": "7e254999-2592-4ebd-9f0c-4007670c0d7b",
   "metadata": {},
   "outputs": [],
   "source": [
    "n = len(df)\n",
    "train_end = int(n * 0.70)\n",
    "valid_end = int(n * 0.85)\n",
    "\n",
    "X_train, y_train = X.iloc[:train_end], y.iloc[:train_end]\n",
    "X_valid, y_valid = X.iloc[train_end:valid_end], y.iloc[train_end:valid_end]\n",
    "X_test,  y_test  = X.iloc[valid_end:], y.iloc[valid_end:]\n"
   ]
  },
  {
   "cell_type": "markdown",
   "id": "815d927e-0ecc-49cb-8592-ffc889ff6ec1",
   "metadata": {},
   "source": [
    "Función auxiliar para threshold óptimo"
   ]
  },
  {
   "cell_type": "code",
   "execution_count": 4,
   "id": "6f0eb0cb-3243-47f1-abe6-10565da0d106",
   "metadata": {},
   "outputs": [],
   "source": [
    "def pick_thr_f1(y_true, proba, grid=np.linspace(0.15, 0.85, 141)):\n",
    "    \"\"\"Selecciona el umbral que maximiza F1 de la clase positiva\"\"\"\n",
    "    best, best_thr = -1, 0.5\n",
    "    for t in grid:\n",
    "        pred = (proba >= t).astype(int)\n",
    "        sc = f1_score(y_true, pred, pos_label=1)\n",
    "        if sc > best:\n",
    "            best, best_thr = sc, t\n",
    "    return best_thr\n"
   ]
  },
  {
   "cell_type": "markdown",
   "id": "e8a7ccde-6b49-4c8b-9caa-3d71da1f5bc2",
   "metadata": {},
   "source": [
    "Función de entrenamiento y evaluación con RF"
   ]
  },
  {
   "cell_type": "code",
   "execution_count": 5,
   "id": "0fe22136-5f86-4fc0-b9c3-a6e471d49665",
   "metadata": {},
   "outputs": [],
   "source": [
    "def train_eval_rf(params, X_train, y_train, X_valid, y_valid, X_test, y_test):\n",
    "    \"\"\"Entrena un Random Forest y devuelve métricas de valid/test.\"\"\"\n",
    "    rf = RandomForestClassifier(**params, random_state=42, n_jobs=-1)\n",
    "    rf.fit(X_train, y_train)\n",
    "    \n",
    "    # Probabilidades\n",
    "    p_val = rf.predict_proba(X_valid)[:,1]\n",
    "    p_tst = rf.predict_proba(X_test)[:,1]\n",
    "    \n",
    "    # Umbral óptimo en validación\n",
    "    thr_val = pick_thr_f1(y_valid, p_val)\n",
    "    \n",
    "    # Métricas\n",
    "    auc_val = roc_auc_score(y_valid, p_val)\n",
    "    auc_tst = roc_auc_score(y_test, p_tst)\n",
    "    f1_tst  = f1_score(y_test, (p_tst >= thr_val).astype(int))\n",
    "    \n",
    "    return {\n",
    "        \"model\": rf,\n",
    "        \"auc_valid\": auc_val,\n",
    "        \"auc_test\": auc_tst,\n",
    "        \"f1_test\": f1_tst,\n",
    "        \"thr_from_valid\": thr_val\n",
    "    }\n"
   ]
  },
  {
   "cell_type": "markdown",
   "id": "0e1208e5-dcbb-4388-820f-d92aaa9b24a5",
   "metadata": {},
   "source": [
    "Definición de rejilla de hiperparámetros"
   ]
  },
  {
   "cell_type": "code",
   "execution_count": 6,
   "id": "d39739a1-8620-4351-9f22-7e124600843d",
   "metadata": {},
   "outputs": [],
   "source": [
    "param_grid = {\n",
    "    \"n_estimators\": [100],\n",
    "    \"max_depth\": [10, None],\n",
    "    \"max_features\": [\"sqrt\"],\n",
    "    \"min_samples_split\": [2, 5],\n",
    "    \"min_samples_leaf\": [1, 2]\n",
    "}\n"
   ]
  },
  {
   "cell_type": "markdown",
   "id": "8d3581f3-8fa5-4510-8382-c40000864e71",
   "metadata": {},
   "source": [
    "Grid Search Manual"
   ]
  },
  {
   "cell_type": "code",
   "execution_count": 7,
   "id": "add57c65-bbab-405f-a60f-dd83c68cbd43",
   "metadata": {},
   "outputs": [
    {
     "name": "stdout",
     "output_type": "stream",
     "text": [
      "   max_depth max_features  min_samples_leaf  min_samples_split  n_estimators  \\\n",
      "0       10.0         sqrt                 1                  5           100   \n",
      "1       10.0         sqrt                 2                  5           100   \n",
      "2       10.0         sqrt                 1                  2           100   \n",
      "3       10.0         sqrt                 2                  2           100   \n",
      "4        NaN         sqrt                 2                  5           100   \n",
      "5        NaN         sqrt                 1                  2           100   \n",
      "6        NaN         sqrt                 1                  5           100   \n",
      "7        NaN         sqrt                 2                  2           100   \n",
      "\n",
      "                                               model  auc_valid  auc_test  \\\n",
      "0  (DecisionTreeClassifier(max_depth=10, max_feat...   0.681991  0.626754   \n",
      "1  (DecisionTreeClassifier(max_depth=10, max_feat...   0.681679  0.628609   \n",
      "2  (DecisionTreeClassifier(max_depth=10, max_feat...   0.680728  0.628721   \n",
      "3  (DecisionTreeClassifier(max_depth=10, max_feat...   0.679512  0.625562   \n",
      "4  (DecisionTreeClassifier(max_features='sqrt', m...   0.678725  0.620005   \n",
      "5  (DecisionTreeClassifier(max_features='sqrt', r...   0.678179  0.623188   \n",
      "6  (DecisionTreeClassifier(max_features='sqrt', m...   0.677059  0.622906   \n",
      "7  (DecisionTreeClassifier(max_features='sqrt', m...   0.674323  0.620042   \n",
      "\n",
      "    f1_test  thr_from_valid  \n",
      "0  0.680890           0.365  \n",
      "1  0.681456           0.360  \n",
      "2  0.690141           0.345  \n",
      "3  0.681327           0.355  \n",
      "4  0.696890           0.335  \n",
      "5  0.701841           0.335  \n",
      "6  0.695900           0.345  \n",
      "7  0.692587           0.345  \n"
     ]
    }
   ],
   "source": [
    "results = []\n",
    "models = []\n",
    "\n",
    "for g in ParameterGrid(param_grid):\n",
    "    res = train_eval_rf(g, X_train, y_train, X_valid, y_valid, X_test, y_test)\n",
    "    results.append({**g, **res})\n",
    "    models.append(res[\"model\"])\n",
    "\n",
    "results_df = pd.DataFrame(results).sort_values([\"auc_valid\",\"auc_test\"], ascending=False).reset_index(drop=True)\n",
    "print(results_df.head(10))\n"
   ]
  },
  {
   "cell_type": "code",
   "execution_count": 8,
   "id": "5a1f1356-5051-4a6a-be8f-9e4819a0b392",
   "metadata": {},
   "outputs": [
    {
     "data": {
      "image/png": "[encoded data removed]",
      "text/plain": [
       "<Figure size 800x600 with 1 Axes>"
      ]
     },
     "metadata": {},
     "output_type": "display_data"
    }
   ],
   "source": [
    "best_rf = models[0]\n",
    "importances = best_rf.feature_importances_\n",
    "indices = np.argsort(importances)[::-1]\n",
    "\n",
    "plt.figure(figsize=(8,6))\n",
    "plt.barh(X.columns[indices[:20]], importances[indices[:20]])\n",
    "plt.gca().invert_yaxis()\n",
    "plt.xlabel(\"Importancia\")\n",
    "plt.title(\"Top-20 importancias - mejor Random Forest\")\n",
    "plt.tight_layout()\n",
    "plt.show()\n"
   ]
  },
  {
   "cell_type": "code",
   "execution_count": 10,
   "id": "f8f31988-d7aa-4fec-ae36-5ba21617dac7",
   "metadata": {},
   "outputs": [
    {
     "name": "stdout",
     "output_type": "stream",
     "text": [
      "AUC_test(final): 0.633  | thr(use valid): 0.365\n",
      "              precision    recall  f1-score   support\n",
      "\n",
      "           0      0.625     0.203     0.306      2695\n",
      "           1      0.586     0.903     0.711      3371\n",
      "\n",
      "    accuracy                          0.592      6066\n",
      "   macro avg      0.605     0.553     0.508      6066\n",
      "weighted avg      0.603     0.592     0.531      6066\n",
      "\n",
      "[[ 546 2149]\n",
      " [ 328 3043]]\n"
     ]
    }
   ],
   "source": [
    "# Seleccionar la mejor fila de resultados\n",
    "best_row = results_df.iloc[0]\n",
    "\n",
    "# Asegurar tipos correctos para los hiperparámetros\n",
    "best_params = {\n",
    "    \"n_estimators\": int(best_row[\"n_estimators\"]),\n",
    "    \"max_depth\": None if pd.isna(best_row[\"max_depth\"]) else int(best_row[\"max_depth\"]),\n",
    "    \"max_features\": best_row[\"max_features\"],  # puede ser 'sqrt', 'log2' o float\n",
    "    \"min_samples_split\": int(best_row[\"min_samples_split\"]),\n",
    "    \"min_samples_leaf\": int(best_row[\"min_samples_leaf\"])\n",
    "}\n",
    "\n",
    "# Umbral óptimo obtenido en validación\n",
    "best_thr = float(best_row[\"thr_from_valid\"])\n",
    "\n",
    "# Entrenar con train + valid\n",
    "X_train_full = pd.concat([X_train, X_valid], axis=0)\n",
    "y_train_full = pd.concat([y_train, y_valid], axis=0)\n",
    "\n",
    "final_rf = RandomForestClassifier(**best_params, random_state=42, n_jobs=-1)\n",
    "final_rf.fit(X_train_full, y_train_full)\n",
    "\n",
    "# Predicciones finales en test\n",
    "proba_test_final = final_rf.predict_proba(X_test)[:,1]\n",
    "auc_test_final = roc_auc_score(y_test, proba_test_final)\n",
    "y_pred_test_final = (proba_test_final >= best_thr).astype(int)\n",
    "\n",
    "# Reporte de métricas\n",
    "print(f\"AUC_test(final): {auc_test_final:.3f}  | thr(use valid): {best_thr:.3f}\")\n",
    "print(classification_report(y_test, y_pred_test_final, digits=3))\n",
    "print(confusion_matrix(y_test, y_pred_test_final))\n",
    "\n"
   ]
  },
  {
   "cell_type": "code",
   "execution_count": 12,
   "id": "ff174c37-77ca-4590-a73b-a5ca3ff11920",
   "metadata": {},
   "outputs": [
    {
     "name": "stdout",
     "output_type": "stream",
     "text": [
      "Modelo guardado en la misma carpeta del notebook: /home/emiluna/MLOps/MLOps_Course_Project/notebooks/01_rf_CDC.pkl\n"
     ]
    }
   ],
   "source": [
    "model_package = {\n",
    "    \"model\": final_rf,\n",
    "    \"params\": best_params,\n",
    "    \"threshold\": best_thr,\n",
    "    \"criterion\": \"auc_test\",\n",
    "    \"timestamp\": datetime.now().isoformat(timespec=\"seconds\")\n",
    "}\n",
    "\n",
    "current_dir = os.getcwd()\n",
    "model_name = \"01_rf_CDC.pkl\"\n",
    "model_path = os.path.join(current_dir, model_name)\n",
    "\n",
    "with open(model_path, \"wb\") as f:\n",
    "    pickle.dump(model_package, f)\n",
    "\n",
    "print(f\"Modelo guardado en la misma carpeta del notebook: {model_path}\")"
   ]
  },
  {
   "cell_type": "code",
   "execution_count": null,
   "id": "80d6c10c-b479-46c2-8fa3-e866ff954ba4",
   "metadata": {},
   "outputs": [],
   "source": []
  }
 ],
 "metadata": {
  "kernelspec": {
   "display_name": "Python 3 (ipykernel)",
   "language": "python",
   "name": "python3"
  },
  "language_info": {
   "codemirror_mode": {
    "name": "ipython",
    "version": 3
   },
   "file_extension": ".py",
   "mimetype": "text/x-python",
   "name": "python",
   "nbconvert_exporter": "python",
   "pygments_lexer": "ipython3",
   "version": "3.13.7"
  }
 },
 "nbformat": 4,
 "nbformat_minor": 5
}
